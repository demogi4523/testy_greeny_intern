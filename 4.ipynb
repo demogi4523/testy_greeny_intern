{
 "cells": [
  {
   "cell_type": "code",
   "execution_count": 20,
   "id": "6e2ea22a",
   "metadata": {},
   "outputs": [],
   "source": [
    "import urllib.request\n",
    "\n",
    "url = \"https://ifconfig.me/\"\n",
    "f = urllib.request.urlopen(url)\n",
    "\n",
    "html = f.read().decode('utf-8')"
   ]
  },
  {
   "cell_type": "code",
   "execution_count": 21,
   "id": "41a47526",
   "metadata": {},
   "outputs": [
    {
     "data": {
      "text/plain": [
       "'134.19.135.130'"
      ]
     },
     "execution_count": 21,
     "metadata": {},
     "output_type": "execute_result"
    }
   ],
   "source": [
    "html"
   ]
  },
  {
   "cell_type": "code",
   "execution_count": 26,
   "id": "5e638d34",
   "metadata": {},
   "outputs": [],
   "source": [
    "import requests as r"
   ]
  },
  {
   "cell_type": "code",
   "execution_count": 28,
   "id": "db3d2c17",
   "metadata": {},
   "outputs": [],
   "source": [
    "resp = r.get(url)"
   ]
  },
  {
   "cell_type": "code",
   "execution_count": 29,
   "id": "9475c9ad",
   "metadata": {},
   "outputs": [
    {
     "data": {
      "text/plain": [
       "'134.19.135.130'"
      ]
     },
     "execution_count": 29,
     "metadata": {},
     "output_type": "execute_result"
    }
   ],
   "source": [
    "resp.text"
   ]
  },
  {
   "cell_type": "code",
   "execution_count": 36,
   "id": "086c6db9",
   "metadata": {},
   "outputs": [
    {
     "data": {
      "text/plain": [
       "b'134.19.135.130'"
      ]
     },
     "execution_count": 36,
     "metadata": {},
     "output_type": "execute_result"
    }
   ],
   "source": [
    "resp.content"
   ]
  },
  {
   "cell_type": "code",
   "execution_count": null,
   "id": "c385aa20",
   "metadata": {},
   "outputs": [],
   "source": []
  }
 ],
 "metadata": {
  "kernelspec": {
   "display_name": "Python 3 (ipykernel)",
   "language": "python",
   "name": "python3"
  },
  "language_info": {
   "codemirror_mode": {
    "name": "ipython",
    "version": 3
   },
   "file_extension": ".py",
   "mimetype": "text/x-python",
   "name": "python",
   "nbconvert_exporter": "python",
   "pygments_lexer": "ipython3",
   "version": "3.10.4"
  }
 },
 "nbformat": 4,
 "nbformat_minor": 5
}
