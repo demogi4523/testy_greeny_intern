{
 "cells": [
  {
   "attachments": {},
   "cell_type": "markdown",
   "id": "89d1effe",
   "metadata": {},
   "source": [
    "Я даже не понял чего я не понял\n",
    "\n",
    "Спрошу url, информацию о пользователе и браузере\n",
    "\n",
    "Проверю логи или отправлю заявку в тех. поддержку"
   ]
  },
  {
   "cell_type": "code",
   "execution_count": null,
   "id": "03db5817",
   "metadata": {},
   "outputs": [],
   "source": []
  }
 ],
 "metadata": {
  "kernelspec": {
   "display_name": ".venv",
   "language": "python",
   "name": "python3"
  },
  "language_info": {
   "codemirror_mode": {
    "name": "ipython",
    "version": 3
   },
   "file_extension": ".py",
   "mimetype": "text/x-python",
   "name": "python",
   "nbconvert_exporter": "python",
   "pygments_lexer": "ipython3",
   "version": "3.10.4"
  },
  "vscode": {
   "interpreter": {
    "hash": "14a04a2660cd0ad85cf3f5cea5e60dd33c9e9467b3f5ea27aad5bbf4233b5a9c"
   }
  }
 },
 "nbformat": 4,
 "nbformat_minor": 5
}
