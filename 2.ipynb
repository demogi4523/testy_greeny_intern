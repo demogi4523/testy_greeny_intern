{
 "cells": [
  {
   "cell_type": "code",
   "execution_count": 1,
   "id": "182a7bb6",
   "metadata": {},
   "outputs": [],
   "source": [
    "def create_handlers(callback):\n",
    "    handlers = []\n",
    "    for step in range(5):\n",
    "        handlers.append(lambda: callback(step))\n",
    "    return handlers"
   ]
  },
  {
   "cell_type": "code",
   "execution_count": 2,
   "id": "5f9f3b65",
   "metadata": {},
   "outputs": [],
   "source": [
    "def execute_handlers(handlers):\n",
    "    for handler in handlers:\n",
    "        handler()"
   ]
  },
  {
   "cell_type": "code",
   "execution_count": 3,
   "id": "0b7b8bbd",
   "metadata": {},
   "outputs": [],
   "source": [
    "cb = print"
   ]
  },
  {
   "cell_type": "code",
   "execution_count": 4,
   "id": "e11c0ca0",
   "metadata": {},
   "outputs": [],
   "source": [
    "handlers = create_handlers(cb)"
   ]
  },
  {
   "cell_type": "code",
   "execution_count": 5,
   "id": "337454a2",
   "metadata": {},
   "outputs": [
    {
     "name": "stdout",
     "output_type": "stream",
     "text": [
      "4\n",
      "4\n",
      "4\n",
      "4\n",
      "4\n"
     ]
    }
   ],
   "source": [
    "execute_handlers(handlers)"
   ]
  },
  {
   "cell_type": "code",
   "execution_count": 11,
   "id": "1207f234",
   "metadata": {},
   "outputs": [],
   "source": [
    "def create_handlers(callback):\n",
    "    handlers = []\n",
    "    for step in range(5):\n",
    "        cbx = lambda step: lambda: callback(step)\n",
    "        handlers.append(cbx(step))\n",
    "    return handlers"
   ]
  },
  {
   "cell_type": "code",
   "execution_count": 12,
   "id": "2e942f8b",
   "metadata": {},
   "outputs": [],
   "source": [
    "handlers = create_handlers(cb)"
   ]
  },
  {
   "cell_type": "code",
   "execution_count": 13,
   "id": "e13044c1",
   "metadata": {},
   "outputs": [
    {
     "name": "stdout",
     "output_type": "stream",
     "text": [
      "0\n",
      "1\n",
      "2\n",
      "3\n",
      "4\n"
     ]
    }
   ],
   "source": [
    "execute_handlers(handlers)"
   ]
  },
  {
   "cell_type": "code",
   "execution_count": null,
   "id": "ada3520b",
   "metadata": {},
   "outputs": [],
   "source": []
  }
 ],
 "metadata": {
  "kernelspec": {
   "display_name": "Python 3 (ipykernel)",
   "language": "python",
   "name": "python3"
  },
  "language_info": {
   "codemirror_mode": {
    "name": "ipython",
    "version": 3
   },
   "file_extension": ".py",
   "mimetype": "text/x-python",
   "name": "python",
   "nbconvert_exporter": "python",
   "pygments_lexer": "ipython3",
   "version": "3.10.4"
  },
  "vscode": {
   "interpreter": {
    "hash": "14a04a2660cd0ad85cf3f5cea5e60dd33c9e9467b3f5ea27aad5bbf4233b5a9c"
   }
  }
 },
 "nbformat": 4,
 "nbformat_minor": 5
}
