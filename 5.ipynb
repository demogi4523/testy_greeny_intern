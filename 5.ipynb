{
 "cells": [
  {
   "cell_type": "code",
   "execution_count": 18,
   "id": "75a7029f",
   "metadata": {},
   "outputs": [],
   "source": [
    "from functools import total_ordering\n",
    "\n",
    "@total_ordering\n",
    "class Version():\n",
    "    def __init__(self, string_version):\n",
    "        self.major, self.minor, self.patch = Version.parse(string_version)\n",
    "    \n",
    "    @staticmethod\n",
    "    def parse(str_version):\n",
    "        vers = str_version.split('.')\n",
    "        if len(vers) < 1 or len(vers) > 3:\n",
    "            raise Exception('wrong format')\n",
    "        for ind, ver in enumerate(vers):\n",
    "            try:\n",
    "                vers[ind] = int(ver)\n",
    "            except Exception as err:\n",
    "                raise err\n",
    "        while len(vers) < 3:\n",
    "            vers.append(None)\n",
    "        \n",
    "        return vers[0], vers[1], vers[2]\n",
    "    \n",
    "    \n",
    "    def __eq__(self, other):\n",
    "        return (self.major == other.major) and \\\n",
    "            (self.minor == other.minor) and \\\n",
    "            (self.patch == self.patch)\n",
    "            \n",
    "    def __lt__(self, other):\n",
    "        if self.major < other.major:\n",
    "            return True\n",
    "        if self.minor and other.minor and self.minor < other.minor:\n",
    "            return True\n",
    "        if self.minor and other.minor is None:\n",
    "            return True\n",
    "        if self.patch and other.patch and self.patch < other.patch:\n",
    "            return True\n",
    "        if self.patch and other.patch is None:\n",
    "            return True\n",
    "                \n",
    "            "
   ]
  },
  {
   "cell_type": "code",
   "execution_count": 19,
   "id": "d77c2752",
   "metadata": {},
   "outputs": [],
   "source": [
    "def compare_versions(version, other_version):\n",
    "    ver = Version(version)\n",
    "    other_ver = Version(other_version)\n",
    "    if ver == other_ver:\n",
    "        return 0\n",
    "    if ver > other_ver:\n",
    "        return 1\n",
    "    return -1"
   ]
  },
  {
   "cell_type": "code",
   "execution_count": 20,
   "id": "4b1a3afa",
   "metadata": {},
   "outputs": [
    {
     "data": {
      "text/plain": [
       "1"
      ]
     },
     "execution_count": 20,
     "metadata": {},
     "output_type": "execute_result"
    }
   ],
   "source": [
    "compare_versions('1.10', '1.1')"
   ]
  },
  {
   "cell_type": "code",
   "execution_count": 11,
   "id": "77e2b020",
   "metadata": {},
   "outputs": [],
   "source": [
    "v = Version('1.1')"
   ]
  },
  {
   "cell_type": "code",
   "execution_count": 12,
   "id": "66376d63",
   "metadata": {},
   "outputs": [
    {
     "data": {
      "text/plain": [
       "<__main__.Version at 0x7ff27797a920>"
      ]
     },
     "execution_count": 12,
     "metadata": {},
     "output_type": "execute_result"
    }
   ],
   "source": [
    "v"
   ]
  },
  {
   "cell_type": "code",
   "execution_count": 13,
   "id": "c9dc1848",
   "metadata": {},
   "outputs": [
    {
     "data": {
      "text/plain": [
       "1"
      ]
     },
     "execution_count": 13,
     "metadata": {},
     "output_type": "execute_result"
    }
   ],
   "source": [
    "v.major"
   ]
  },
  {
   "cell_type": "code",
   "execution_count": 14,
   "id": "0107d3cc",
   "metadata": {},
   "outputs": [
    {
     "data": {
      "text/plain": [
       "1"
      ]
     },
     "execution_count": 14,
     "metadata": {},
     "output_type": "execute_result"
    }
   ],
   "source": [
    "v.minor"
   ]
  },
  {
   "cell_type": "code",
   "execution_count": 17,
   "id": "c1692970",
   "metadata": {},
   "outputs": [
    {
     "name": "stdout",
     "output_type": "stream",
     "text": [
      "None\n"
     ]
    }
   ],
   "source": [
    "print(v.patch)"
   ]
  },
  {
   "cell_type": "code",
   "execution_count": null,
   "id": "d3106e2d",
   "metadata": {},
   "outputs": [],
   "source": []
  }
 ],
 "metadata": {
  "kernelspec": {
   "display_name": "Python 3 (ipykernel)",
   "language": "python",
   "name": "python3"
  },
  "language_info": {
   "codemirror_mode": {
    "name": "ipython",
    "version": 3
   },
   "file_extension": ".py",
   "mimetype": "text/x-python",
   "name": "python",
   "nbconvert_exporter": "python",
   "pygments_lexer": "ipython3",
   "version": "3.10.4"
  }
 },
 "nbformat": 4,
 "nbformat_minor": 5
}
