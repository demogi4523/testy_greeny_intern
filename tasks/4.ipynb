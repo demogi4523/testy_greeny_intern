{
 "cells": [
  {
   "attachments": {},
   "cell_type": "markdown",
   "id": "043cad12",
   "metadata": {},
   "source": [
    "4. Напиши функцию на Python, которая возвращает текущий публичный IP-адрес компьютера \n",
    "(например, с использованием сервиса ifconfig.me)"
   ]
  },
  {
   "cell_type": "code",
   "execution_count": 1,
   "id": "6e2ea22a",
   "metadata": {},
   "outputs": [
    {
     "data": {
      "text/plain": [
       "'134.19.135.130'"
      ]
     },
     "execution_count": 1,
     "metadata": {},
     "output_type": "execute_result"
    }
   ],
   "source": [
    "from scripts.fourth import get_my_public_ip_address\n",
    "\n",
    "str(get_my_public_ip_address())"
   ]
  }
 ],
 "metadata": {
  "kernelspec": {
   "display_name": ".venv",
   "language": "python",
   "name": "python3"
  },
  "language_info": {
   "codemirror_mode": {
    "name": "ipython",
    "version": 3
   },
   "file_extension": ".py",
   "mimetype": "text/x-python",
   "name": "python",
   "nbconvert_exporter": "python",
   "pygments_lexer": "ipython3",
   "version": "3.10.4"
  },
  "vscode": {
   "interpreter": {
    "hash": "14a04a2660cd0ad85cf3f5cea5e60dd33c9e9467b3f5ea27aad5bbf4233b5a9c"
   }
  }
 },
 "nbformat": 4,
 "nbformat_minor": 5
}
