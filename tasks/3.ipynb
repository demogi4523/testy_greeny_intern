{
 "cells": [
  {
   "attachments": {},
   "cell_type": "markdown",
   "id": "945676c2",
   "metadata": {},
   "source": [
    "3. Сколько HTML-тегов в коде главной страницы сайта greenatom.ru? Сколько из них содержит атрибуты? Напиши скрипт на Python, который выводит ответы на вопросы выше."
   ]
  },
  {
   "cell_type": "code",
   "execution_count": 1,
   "id": "fa794221",
   "metadata": {},
   "outputs": [
    {
     "name": "stdout",
     "output_type": "stream",
     "text": [
      "В коде главной страницы сайта greenatom.ru содержится 669 HTML-тегов\n",
      "Из них 582 содержат атрибуты\n"
     ]
    }
   ],
   "source": [
    "from scripts.third import run\n",
    "\n",
    "\n",
    "run()"
   ]
  }
 ],
 "metadata": {
  "kernelspec": {
   "display_name": ".venv",
   "language": "python",
   "name": "python3"
  },
  "language_info": {
   "codemirror_mode": {
    "name": "ipython",
    "version": 3
   },
   "file_extension": ".py",
   "mimetype": "text/x-python",
   "name": "python",
   "nbconvert_exporter": "python",
   "pygments_lexer": "ipython3",
   "version": "3.10.4"
  },
  "vscode": {
   "interpreter": {
    "hash": "14a04a2660cd0ad85cf3f5cea5e60dd33c9e9467b3f5ea27aad5bbf4233b5a9c"
   }
  }
 },
 "nbformat": 4,
 "nbformat_minor": 5
}
