{
 "cells": [
  {
   "attachments": {},
   "cell_type": "markdown",
   "id": "5170bc55",
   "metadata": {},
   "source": [
    "2. Какие ты видишь проблемы в следующем фрагменте кода? Как его следует исправить?\n",
    "Исправь ошибку и перепиши код с использованием типизвции."
   ]
  },
  {
   "cell_type": "code",
   "execution_count": 1,
   "id": "182a7bb6",
   "metadata": {},
   "outputs": [],
   "source": [
    "def create_handlers(callback):\n",
    "    handlers = []\n",
    "    for step in range(5):\n",
    "        # добавляем обработчики для каждого шага (от 0 до 4)\n",
    "        handlers.append(lambda: callback(step))\n",
    "    return handlers\n",
    "\n",
    "def execute_handlers(handlers):\n",
    "    # запускаем добавленные обработчики (шаги от 0 до 4)\n",
    "    for handler in handlers:\n",
    "        handler()"
   ]
  },
  {
   "attachments": {},
   "cell_type": "markdown",
   "id": "c62d70e1",
   "metadata": {},
   "source": [
    "1) Код работает неправильно\n",
    "2) Код ужасен"
   ]
  },
  {
   "cell_type": "code",
   "execution_count": 3,
   "id": "0b7b8bbd",
   "metadata": {},
   "outputs": [],
   "source": [
    "cb = print"
   ]
  },
  {
   "cell_type": "code",
   "execution_count": 4,
   "id": "e11c0ca0",
   "metadata": {},
   "outputs": [],
   "source": [
    "handlers = create_handlers(cb)\n",
    "execute_handlers(handlers)"
   ]
  },
  {
   "cell_type": "code",
   "execution_count": 11,
   "id": "1207f234",
   "metadata": {},
   "outputs": [],
   "source": [
    "from typing import Any, Callable, List, NoReturn\n",
    "\n",
    "cb_type = Callable[[Any], NoReturn]\n",
    "\n",
    "def create_handlers(callback: cb_type) -> List[cb_type]:\n",
    "    handlers = []\n",
    "    for step in range(5):\n",
    "        # создаем промежуточную лямюда-функцию cbx для связывания \n",
    "        # колбэка с текущим значением step(каррирование)\n",
    "        cbx = lambda step: lambda: callback(step)\n",
    "        handlers.append(cbx(step))\n",
    "    return handlers\n",
    "\n",
    "def execute_handlers(handlers: List[cb_type]) -> None:\n",
    "    for handler in handlers:\n",
    "        handler()"
   ]
  },
  {
   "cell_type": "code",
   "execution_count": 12,
   "id": "2e942f8b",
   "metadata": {},
   "outputs": [],
   "source": [
    "handlers = create_handlers(cb)\n",
    "execute_handlers(handlers)"
   ]
  },
  {
   "attachments": {},
   "cell_type": "markdown",
   "id": "059700e5",
   "metadata": {},
   "source": [
    "В качестве улучшения в функции create_handlers можно вынести количество шагов в аргумент\n",
    "функции, избавиться от лямбд(при отладке вместо имени функции отображается только <lambda function>) и добавить передачу списка списков аргументов для колбэков и список колбэков \n",
    "на случай ошибки в одном или нескольких хэндлерах.\n",
    "\n",
    "В качестве улучшения в функции execute_handlers можно добавить возможность ленивого вычисления, параллельное или асинхронное исполнение хэндлеров.\n",
    "\n",
    "В общем стоит добавить doc-строки и doc-тесты + юнит-тестирование\n",
    "С радостью бы это продемонстрировал, но не здесь"
   ]
  }
 ],
 "metadata": {
  "kernelspec": {
   "display_name": "Python 3 (ipykernel)",
   "language": "python",
   "name": "python3"
  },
  "language_info": {
   "codemirror_mode": {
    "name": "ipython",
    "version": 3
   },
   "file_extension": ".py",
   "mimetype": "text/x-python",
   "name": "python",
   "nbconvert_exporter": "python",
   "pygments_lexer": "ipython3",
   "version": "3.10.4"
  },
  "vscode": {
   "interpreter": {
    "hash": "14a04a2660cd0ad85cf3f5cea5e60dd33c9e9467b3f5ea27aad5bbf4233b5a9c"
   }
  }
 },
 "nbformat": 4,
 "nbformat_minor": 5
}
