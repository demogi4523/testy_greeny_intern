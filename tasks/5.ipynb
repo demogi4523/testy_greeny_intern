{
 "cells": [
  {
   "attachments": {},
   "cell_type": "markdown",
   "id": "f9cbfb20",
   "metadata": {},
   "source": [
    "5. Напиши функцию на Python, выполняющую сравнение ерсий. Условия\n",
    "- Return -1 if version A is older than version B\n",
    "- Return 0 if version A and version B are equivalent\n",
    "- Return 1 if version A is newer than version B\n",
    "- Each subsection is supposed to be interpreted as a number, therefore 1.10 > 1.1."
   ]
  },
  {
   "cell_type": "code",
   "execution_count": 3,
   "id": "75a7029f",
   "metadata": {},
   "outputs": [],
   "source": [
    "from scripts.fifth import compare_versions"
   ]
  },
  {
   "cell_type": "code",
   "execution_count": 4,
   "id": "d77c2752",
   "metadata": {},
   "outputs": [
    {
     "name": "stdout",
     "output_type": "stream",
     "text": [
      "1\n",
      "-1\n",
      "0\n"
     ]
    }
   ],
   "source": [
    "print(compare_versions('1.10', '1.1'))\n",
    "print(compare_versions('1.8', '1.11'))\n",
    "print(compare_versions('1.1', '1.1'))"
   ]
  }
 ],
 "metadata": {
  "kernelspec": {
   "display_name": ".venv",
   "language": "python",
   "name": "python3"
  },
  "language_info": {
   "codemirror_mode": {
    "name": "ipython",
    "version": 3
   },
   "file_extension": ".py",
   "mimetype": "text/x-python",
   "name": "python",
   "nbconvert_exporter": "python",
   "pygments_lexer": "ipython3",
   "version": "3.10.4"
  },
  "vscode": {
   "interpreter": {
    "hash": "14a04a2660cd0ad85cf3f5cea5e60dd33c9e9467b3f5ea27aad5bbf4233b5a9c"
   }
  }
 },
 "nbformat": 4,
 "nbformat_minor": 5
}
